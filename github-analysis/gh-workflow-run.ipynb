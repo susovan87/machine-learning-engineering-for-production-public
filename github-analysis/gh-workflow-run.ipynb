{
 "cells": [
  {
   "cell_type": "code",
   "execution_count": 1,
   "id": "ed4146fd-6ffe-4135-9238-115b7907f7a7",
   "metadata": {},
   "outputs": [
    {
     "name": "stdout",
     "output_type": "stream",
     "text": [
      "Tensorflow Version: 2.15.0\n"
     ]
    }
   ],
   "source": [
    "import tensorflow as tf\n",
    "print('Tensorflow Version: {}'.format(tf.__version__))\n",
    "# import tensorflow_data_validation as tfdv\n",
    "# import pandas as pd\n",
    "\n",
    "# from sklearn.model_selection import train_test_split\n",
    "# from util import add_extra_rows\n",
    "\n",
    "# from tensorflow_metadata.proto.v0 import schema_pb2\n",
    "\n",
    "# print('TFDV Version: {}'.format(tfdv.__version__))\n",
    "# print('Tensorflow Version: {}'.format(tf.__version__))"
   ]
  },
  {
   "cell_type": "code",
   "execution_count": null,
   "id": "cc1880a1-9945-4e59-9d7b-6f945a051068",
   "metadata": {},
   "outputs": [],
   "source": []
  }
 ],
 "metadata": {
  "kernelspec": {
   "display_name": "Python 3 (ipykernel)",
   "language": "python",
   "name": "python3"
  },
  "language_info": {
   "codemirror_mode": {
    "name": "ipython",
    "version": 3
   },
   "file_extension": ".py",
   "mimetype": "text/x-python",
   "name": "python",
   "nbconvert_exporter": "python",
   "pygments_lexer": "ipython3",
   "version": "3.11.7"
  }
 },
 "nbformat": 4,
 "nbformat_minor": 5
}
